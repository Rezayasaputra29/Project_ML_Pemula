{
 "cells": [
  {
   "cell_type": "markdown",
   "metadata": {
    "id": "fKADPWcFKlj3"
   },
   "source": [
    "# **1. Import Library**"
   ]
  },
  {
   "cell_type": "markdown",
   "metadata": {
    "id": "LgA3ERnVn84N"
   },
   "source": [
    "Pada tahap ini, Anda perlu mengimpor beberapa pustaka (library) Python yang dibutuhkan untuk analisis data dan pembangunan model machine learning."
   ]
  },
  {
   "cell_type": "code",
   "execution_count": 1,
   "metadata": {
    "id": "BlmvjLY9M4Yj"
   },
   "outputs": [],
   "source": [
    "import pandas as pd\n",
    "import numpy as np\n",
    "import seaborn as sns\n",
    "import matplotlib.pyplot as plt\n",
    "from sklearn.model_selection import train_test_split\n",
    "from sklearn.preprocessing import LabelEncoder, StandardScaler, MinMaxScaler, OneHotEncoder\n",
    "from sklearn.neighbors import KNeighborsClassifier\n",
    "from sklearn.tree import DecisionTreeClassifier\n",
    "from sklearn.ensemble import RandomForestClassifier\n",
    "from sklearn.svm import SVC\n",
    "from sklearn.naive_bayes import GaussianNB\n",
    "from sklearn.metrics import confusion_matrix, accuracy_score, precision_score, recall_score, f1_score\n"
   ]
  },
  {
   "cell_type": "markdown",
   "metadata": {
    "id": "f3YIEnAFKrKL"
   },
   "source": [
    "# **2. Memuat Dataset dari Hasil Clustering**"
   ]
  },
  {
   "cell_type": "markdown",
   "metadata": {
    "id": "Ey3ItwTen_7E"
   },
   "source": [
    "Memuat dataset hasil clustering dari file CSV ke dalam variabel DataFrame."
   ]
  },
  {
   "cell_type": "code",
   "execution_count": 2,
   "metadata": {
    "id": "GHCGNTyrM5fS"
   },
   "outputs": [],
   "source": [
    "df = pd.read_csv(\"garis_kemiskinan_clustering.csv\")"
   ]
  },
  {
   "cell_type": "code",
   "execution_count": 3,
   "metadata": {
    "scrolled": true
   },
   "outputs": [
    {
     "name": "stdout",
     "output_type": "stream",
     "text": [
      "\n",
      "Informasi dataset:\n",
      "<class 'pandas.core.frame.DataFrame'>\n",
      "RangeIndex: 5066 entries, 0 to 5065\n",
      "Data columns (total 5 columns):\n",
      " #   Column      Non-Null Count  Dtype  \n",
      "---  ------      --------------  -----  \n",
      " 0   Unnamed: 0  5066 non-null   int64  \n",
      " 1   gk          5066 non-null   float64\n",
      " 2   jenis       5066 non-null   object \n",
      " 3   daerah      5066 non-null   object \n",
      " 4   Cluster     5066 non-null   int64  \n",
      "dtypes: float64(1), int64(2), object(2)\n",
      "memory usage: 198.0+ KB\n"
     ]
    }
   ],
   "source": [
    "print(\"\\nInformasi dataset:\")\n",
    "df.info()"
   ]
  },
  {
   "cell_type": "code",
   "execution_count": 4,
   "metadata": {},
   "outputs": [],
   "source": [
    "# Hapus kolom 'Unnamed: 0' karena tidak diperlukan\n",
    "df = df.drop(columns=['Unnamed: 0'])\n"
   ]
  },
  {
   "cell_type": "code",
   "execution_count": 5,
   "metadata": {
    "scrolled": true
   },
   "outputs": [
    {
     "name": "stdout",
     "output_type": "stream",
     "text": [
      "<class 'pandas.core.frame.DataFrame'>\n",
      "RangeIndex: 5066 entries, 0 to 5065\n",
      "Data columns (total 4 columns):\n",
      " #   Column   Non-Null Count  Dtype  \n",
      "---  ------   --------------  -----  \n",
      " 0   gk       5066 non-null   float64\n",
      " 1   jenis    5066 non-null   object \n",
      " 2   daerah   5066 non-null   object \n",
      " 3   Cluster  5066 non-null   int64  \n",
      "dtypes: float64(1), int64(1), object(2)\n",
      "memory usage: 158.4+ KB\n"
     ]
    }
   ],
   "source": [
    "# Cek kembali informasi dataset\n",
    "df.info()"
   ]
  },
  {
   "cell_type": "code",
   "execution_count": 6,
   "metadata": {},
   "outputs": [],
   "source": [
    "X = df.drop(columns=[\"Cluster\"])\n",
    "y = df[\"Cluster\"]"
   ]
  },
  {
   "cell_type": "code",
   "execution_count": 7,
   "metadata": {
    "scrolled": true
   },
   "outputs": [
    {
     "name": "stdout",
     "output_type": "stream",
     "text": [
      "<class 'pandas.core.frame.DataFrame'>\n",
      "RangeIndex: 5066 entries, 0 to 5065\n",
      "Data columns (total 3 columns):\n",
      " #   Column  Non-Null Count  Dtype  \n",
      "---  ------  --------------  -----  \n",
      " 0   gk      5066 non-null   float64\n",
      " 1   jenis   5066 non-null   object \n",
      " 2   daerah  5066 non-null   object \n",
      "dtypes: float64(1), object(2)\n",
      "memory usage: 118.9+ KB\n"
     ]
    }
   ],
   "source": [
    "X.info()"
   ]
  },
  {
   "cell_type": "code",
   "execution_count": 8,
   "metadata": {},
   "outputs": [
    {
     "name": "stdout",
     "output_type": "stream",
     "text": [
      "<class 'pandas.core.series.Series'>\n",
      "RangeIndex: 5066 entries, 0 to 5065\n",
      "Series name: Cluster\n",
      "Non-Null Count  Dtype\n",
      "--------------  -----\n",
      "5066 non-null   int64\n",
      "dtypes: int64(1)\n",
      "memory usage: 39.7 KB\n"
     ]
    }
   ],
   "source": [
    "y.info()"
   ]
  },
  {
   "cell_type": "markdown",
   "metadata": {
    "id": "KkPem5eWL2UP"
   },
   "source": [
    "# **3. Data Splitting**"
   ]
  },
  {
   "cell_type": "markdown",
   "metadata": {
    "id": "YYj1rl_JNI9Y"
   },
   "source": [
    "Tahap Data Splitting bertujuan untuk memisahkan dataset menjadi dua bagian: data latih (training set) dan data uji (test set)."
   ]
  },
  {
   "cell_type": "code",
   "execution_count": 9,
   "metadata": {
    "id": "OubAW-7ONKVj"
   },
   "outputs": [],
   "source": [
    "# 5. Normalisasi Fitur Numerik\n",
    "scaler = MinMaxScaler()\n",
    "X[['gk']] = scaler.fit_transform(X[['gk']])"
   ]
  },
  {
   "cell_type": "code",
   "execution_count": 10,
   "metadata": {},
   "outputs": [],
   "source": [
    "nominal_features = ['jenis', 'daerah']\n",
    "onehot_enc = OneHotEncoder(sparse_output=False)\n",
    "nominal_encoded = onehot_enc.fit_transform(X[nominal_features])\n",
    "\n",
    "nominal_encoded_X = pd.DataFrame(\n",
    "    nominal_encoded,\n",
    "    columns=onehot_enc.get_feature_names_out(nominal_features)\n",
    ")\n",
    "\n",
    "X_encoded = pd.concat([X.drop(columns=nominal_features), nominal_encoded_X], axis=1)"
   ]
  },
  {
   "cell_type": "code",
   "execution_count": 11,
   "metadata": {
    "scrolled": true
   },
   "outputs": [
    {
     "name": "stdout",
     "output_type": "stream",
     "text": [
      "<class 'pandas.core.frame.DataFrame'>\n",
      "RangeIndex: 5066 entries, 0 to 5065\n",
      "Data columns (total 7 columns):\n",
      " #   Column                     Non-Null Count  Dtype  \n",
      "---  ------                     --------------  -----  \n",
      " 0   gk                         5066 non-null   float64\n",
      " 1   jenis_MAKANAN              5066 non-null   float64\n",
      " 2   jenis_NONMAKANAN           5066 non-null   float64\n",
      " 3   jenis_TOTAL                5066 non-null   float64\n",
      " 4   daerah_PERDESAAN           5066 non-null   float64\n",
      " 5   daerah_PERDESAANPERKOTAAN  5066 non-null   float64\n",
      " 6   daerah_PERKOTAAN           5066 non-null   float64\n",
      "dtypes: float64(7)\n",
      "memory usage: 277.2 KB\n"
     ]
    }
   ],
   "source": [
    "X_encoded.info()"
   ]
  },
  {
   "cell_type": "code",
   "execution_count": 12,
   "metadata": {},
   "outputs": [],
   "source": [
    "X = X_encoded.drop(columns=['daerah_PERDESAAN', 'daerah_PERDESAANPERKOTAAN'])"
   ]
  },
  {
   "cell_type": "code",
   "execution_count": 13,
   "metadata": {
    "scrolled": true
   },
   "outputs": [
    {
     "name": "stdout",
     "output_type": "stream",
     "text": [
      "<class 'pandas.core.frame.DataFrame'>\n",
      "RangeIndex: 5066 entries, 0 to 5065\n",
      "Data columns (total 5 columns):\n",
      " #   Column            Non-Null Count  Dtype  \n",
      "---  ------            --------------  -----  \n",
      " 0   gk                5066 non-null   float64\n",
      " 1   jenis_MAKANAN     5066 non-null   float64\n",
      " 2   jenis_NONMAKANAN  5066 non-null   float64\n",
      " 3   jenis_TOTAL       5066 non-null   float64\n",
      " 4   daerah_PERKOTAAN  5066 non-null   float64\n",
      "dtypes: float64(5)\n",
      "memory usage: 198.0 KB\n"
     ]
    }
   ],
   "source": [
    "X.info()"
   ]
  },
  {
   "cell_type": "code",
   "execution_count": 14,
   "metadata": {},
   "outputs": [],
   "source": [
    "# misah data ke train dan test\n",
    "X_train, X_test, y_train, y_test = train_test_split(X, y, test_size=0.8, random_state=42, stratify=y)"
   ]
  },
  {
   "cell_type": "markdown",
   "metadata": {
    "id": "IVPbB03CMhTT"
   },
   "source": [
    "# **4. Membangun Model Klasifikasi**\n"
   ]
  },
  {
   "cell_type": "markdown",
   "metadata": {
    "id": "Ned1pL9zMmBK"
   },
   "source": [
    "## **a. Membangun Model Klasifikasi**"
   ]
  },
  {
   "cell_type": "markdown",
   "metadata": {
    "id": "WAWzPOE4Nkti"
   },
   "source": [
    "Setelah memilih algoritma klasifikasi yang sesuai, langkah selanjutnya adalah melatih model menggunakan data latih.\n",
    "\n",
    "Berikut adalah rekomendasi tahapannya.\n",
    "1. Pilih algoritma klasifikasi yang sesuai, seperti Logistic Regression, Decision Tree, Random Forest, atau K-Nearest Neighbors (KNN).\n",
    "2. Latih model menggunakan data latih."
   ]
  },
  {
   "cell_type": "code",
   "execution_count": 15,
   "metadata": {
    "id": "4JYxBe87NLDk",
    "scrolled": true
   },
   "outputs": [
    {
     "name": "stdout",
     "output_type": "stream",
     "text": [
      "Model training selesai.\n"
     ]
    }
   ],
   "source": [
    "knn = KNeighborsClassifier().fit(X_train, y_train)\n",
    "dt = DecisionTreeClassifier().fit(X_train, y_train)\n",
    "nb = GaussianNB().fit(X_train, y_train)\n",
    "svm = SVC().fit(X_train, y_train)\n",
    "print(\"Model training selesai.\")"
   ]
  },
  {
   "cell_type": "markdown",
   "metadata": {},
   "source": [
    "Dalam proyek ini, saya menggunakan beberapa algoritma klasifikasi untuk membangun model yang dapat mengklasifikasikan data dengan tingkat akurasi yang tinggi. Saya melatih empat model yang berbeda: **K-Nearest Neighbors (KNN), Decision Tree (DT), Gaussian Naïve Bayes (NB),** dan **Support Vector Machine (SVM).**  \n",
    "\n",
    " **K-Nearest Neighbors (KNN)**  \n",
    "Saya menggunakan KNN untuk mengklasifikasikan data berdasarkan kedekatan dengan sampel lain dalam ruang fitur. Model ini bekerja dengan mencari sejumlah **k tetangga terdekat** dari data uji dan menentukan kelas berdasarkan mayoritas dari tetangga tersebut.  \n",
    "\n",
    " **Decision Tree (DT)**  \n",
    "Saya menerapkan Decision Tree sebagai model yang bekerja dengan **membagi data secara rekursif** berdasarkan fitur yang paling informatif. Model ini membentuk **struktur pohon keputusan**, yang memudahkan interpretasi dan pemahaman hasil klasifikasi.  \n",
    "\n",
    " **Gaussian Naïve Bayes (NB)**  \n",
    "Saya menggunakan GaussianNB sebagai model probabilistik yang **mengasumsikan bahwa fitur memiliki distribusi Gaussian (Normal).** Model ini bekerja dengan menghitung peluang setiap kelas berdasarkan distribusi fitur dan memilih kelas dengan probabilitas tertinggi.  \n",
    "\n",
    " **Support Vector Machine (SVM)**  \n",
    "Saya juga menggunakan SVM, yang bekerja dengan mencari **hyperplane terbaik** untuk memisahkan kelas dalam data. Dengan menggunakan kernel yang sesuai, SVM dapat menangani **data yang tidak terpisah secara linear** dan memberikan hasil klasifikasi yang optimal.  \n",
    "\n",
    "Setelah melatih semua model ini dengan **data latih (X_train, y_train),** saya siap untuk mengevaluasi performa mereka dan menentukan model mana yang memberikan hasil terbaik."
   ]
  },
  {
   "cell_type": "markdown",
   "metadata": {
    "id": "ergzChZFEL-O"
   },
   "source": [
    "## **b. Evaluasi Model Klasifikasi**"
   ]
  },
  {
   "cell_type": "markdown",
   "metadata": {
    "id": "zOm68u-7NpLT"
   },
   "source": [
    "Berikut adalah **rekomendasi** tahapannya.\n",
    "1. Lakukan prediksi menggunakan data uji.\n",
    "2. Hitung metrik evaluasi seperti Accuracy dan F1-Score (Opsional: Precision dan Recall).\n",
    "3. Buat confusion matrix untuk melihat detail prediksi benar dan salah."
   ]
  },
  {
   "cell_type": "code",
   "execution_count": 16,
   "metadata": {},
   "outputs": [
    {
     "name": "stdout",
     "output_type": "stream",
     "text": [
      "Jumlah data uji yang ada di data latih: 15\n"
     ]
    }
   ],
   "source": [
    "# Cek apakah ada data uji yang juga ada di data latih\n",
    "duplicate_test_in_train = X_test[X_test.isin(X_train.to_dict(orient='list')).all(axis=1)]\n",
    "print(f\"Jumlah data uji yang ada di data latih: {len(duplicate_test_in_train)}\")\n"
   ]
  },
  {
   "cell_type": "markdown",
   "metadata": {},
   "source": [
    "##### smote utk resample X_train dan y_train"
   ]
  },
  {
   "cell_type": "code",
   "execution_count": 18,
   "metadata": {},
   "outputs": [],
   "source": [
    "from imblearn.over_sampling import SMOTE\n",
    "from sklearn.utils import shuffle  # 🔹 Tambahkan ini di awal kode\n",
    "# Terapkan SMOTE pada data latih\n",
    "smote = SMOTE(random_state=42)\n",
    "X_train_resampled, y_train_resampled = smote.fit_resample(X_train, y_train)\n",
    "\n",
    "# Pastikan data teracak setelah SMOTE\n",
    "X_train_resampled, y_train_resampled = shuffle(X_train_resampled, y_train_resampled, random_state=42)\n"
   ]
  },
  {
   "cell_type": "code",
   "execution_count": 19,
   "metadata": {},
   "outputs": [
    {
     "name": "stdout",
     "output_type": "stream",
     "text": [
      "Model training selesai.\n"
     ]
    }
   ],
   "source": [
    "knn = KNeighborsClassifier().fit(X_train_resampled, y_train_resampled)\n",
    "dt = DecisionTreeClassifier().fit(X_train_resampled, y_train_resampled)\n",
    "nb = GaussianNB().fit(X_train_resampled, y_train_resampled)\n",
    "svm = SVC().fit(X_train_resampled, y_train_resampled)\n",
    "print(\"Model training selesai.\")"
   ]
  },
  {
   "cell_type": "code",
   "execution_count": 21,
   "metadata": {
    "id": "tMq4QAssNLip",
    "scrolled": true
   },
   "outputs": [
    {
     "data": {
      "text/html": [
       "<div>\n",
       "<style scoped>\n",
       "    .dataframe tbody tr th:only-of-type {\n",
       "        vertical-align: middle;\n",
       "    }\n",
       "\n",
       "    .dataframe tbody tr th {\n",
       "        vertical-align: top;\n",
       "    }\n",
       "\n",
       "    .dataframe thead th {\n",
       "        text-align: right;\n",
       "    }\n",
       "</style>\n",
       "<table border=\"1\" class=\"dataframe\">\n",
       "  <thead>\n",
       "    <tr style=\"text-align: right;\">\n",
       "      <th></th>\n",
       "      <th>Model</th>\n",
       "      <th>Accuracy</th>\n",
       "      <th>Precision</th>\n",
       "      <th>Recall</th>\n",
       "      <th>F1-Score</th>\n",
       "    </tr>\n",
       "  </thead>\n",
       "  <tbody>\n",
       "    <tr>\n",
       "      <th>0</th>\n",
       "      <td>KNN Classifier</td>\n",
       "      <td>1.0</td>\n",
       "      <td>1.0</td>\n",
       "      <td>1.0</td>\n",
       "      <td>1.0</td>\n",
       "    </tr>\n",
       "    <tr>\n",
       "      <th>1</th>\n",
       "      <td>Decision Tree Classifier</td>\n",
       "      <td>1.0</td>\n",
       "      <td>1.0</td>\n",
       "      <td>1.0</td>\n",
       "      <td>1.0</td>\n",
       "    </tr>\n",
       "    <tr>\n",
       "      <th>2</th>\n",
       "      <td>GaussianNB</td>\n",
       "      <td>1.0</td>\n",
       "      <td>1.0</td>\n",
       "      <td>1.0</td>\n",
       "      <td>1.0</td>\n",
       "    </tr>\n",
       "    <tr>\n",
       "      <th>3</th>\n",
       "      <td>Support Vector Machine (SVM)</td>\n",
       "      <td>1.0</td>\n",
       "      <td>1.0</td>\n",
       "      <td>1.0</td>\n",
       "      <td>1.0</td>\n",
       "    </tr>\n",
       "  </tbody>\n",
       "</table>\n",
       "</div>"
      ],
      "text/plain": [
       "                          Model  Accuracy  Precision  Recall  F1-Score\n",
       "0                KNN Classifier       1.0        1.0     1.0       1.0\n",
       "1      Decision Tree Classifier       1.0        1.0     1.0       1.0\n",
       "2                    GaussianNB       1.0        1.0     1.0       1.0\n",
       "3  Support Vector Machine (SVM)       1.0        1.0     1.0       1.0"
      ]
     },
     "execution_count": 21,
     "metadata": {},
     "output_type": "execute_result"
    }
   ],
   "source": [
    "def evaluate_classifier(classifier, X_test, y_test):\n",
    "    predictions = classifier.predict(X_test)\n",
    "    conf_matrix = confusion_matrix(y_test, predictions)\n",
    "\n",
    "    metrics = {\n",
    "        'Confusion Matrix': conf_matrix,\n",
    "        'Accuracy': accuracy_score(y_test, predictions),\n",
    "        'Precision': precision_score(y_test, predictions, average='weighted', zero_division=1),\n",
    "        'Recall': recall_score(y_test, predictions, average='weighted', zero_division=1),\n",
    "        'F1-Score': f1_score(y_test, predictions, average='weighted')\n",
    "    }\n",
    "    return metrics\n",
    "\n",
    "# Evaluasi model yang digunakan\n",
    "model_results = {\n",
    "    'KNN Classifier': evaluate_classifier(knn, X_test, y_test),\n",
    "    'Decision Tree Classifier': evaluate_classifier(dt, X_test, y_test),\n",
    "    'GaussianNB': evaluate_classifier(nb, X_test, y_test),\n",
    "    'Support Vector Machine (SVM)': evaluate_classifier(svm, X_test, y_test),\n",
    "}\n",
    "\n",
    "# Menyusun hasil evaluasi dalam DataFrame\n",
    "evaluation_df = pd.DataFrame([\n",
    "    {\n",
    "        'Model': model_name,\n",
    "        'Accuracy': stats['Accuracy'],\n",
    "        'Precision': stats['Precision'],\n",
    "        'Recall': stats['Recall'],\n",
    "        'F1-Score': stats['F1-Score']\n",
    "    }\n",
    "    for model_name, stats in model_results.items()\n",
    "])\n",
    "\n",
    "# Tampilkan hasil evaluasi\n",
    "evaluation_df\n"
   ]
  },
  {
   "cell_type": "markdown",
   "metadata": {},
   "source": [
    " dataset memang memiliki pola yang sangat jelas atau fitur yang sudah sangat informatif, maka model mungkin memang dapat mencapai performa sempurna."
   ]
  },
  {
   "cell_type": "code",
   "execution_count": 28,
   "metadata": {},
   "outputs": [
    {
     "data": {
      "image/png": "[encoded data removed]",
      "text/plain": [
       "<Figure size 1200x1000 with 8 Axes>"
      ]
     },
     "metadata": {},
     "output_type": "display_data"
    }
   ],
   "source": [
    "fig, axes = plt.subplots(nrows=(len(model_results) + 1) // 2, ncols=2, figsize=(12, 5 * ((len(model_results) + 1) // 2)))\n",
    "\n",
    "axes = axes.flatten()\n",
    "\n",
    "for i, (model_name, metrics) in enumerate(model_results.items()):\n",
    "    cm = metrics['Confusion Matrix']\n",
    "    sns.heatmap(cm, annot=True, fmt='d', cmap='Blues', \n",
    "                xticklabels=['Negative', 'Positive'], yticklabels=['Negative', 'Positive'], \n",
    "                ax=axes[i])\n",
    "    axes[i].set_title(f'Confusion Matrix - {model_name}')\n",
    "    axes[i].set_xlabel(\"Predicted Label\")\n",
    "    axes[i].set_ylabel(\"True Label\")\n",
    "\n",
    "for j in range(i + 1, len(axes)):\n",
    "    fig.delaxes(axes[j])\n",
    "\n",
    "plt.tight_layout()\n",
    "plt.show()\n"
   ]
  },
  {
   "cell_type": "markdown",
   "metadata": {},
   "source": [
    "\n",
    " 1. Performa Demonstrate\n",
    "\n",
    "- Semua show (KNN, Choice Tree, GaussianNB, dan SVM) memiliki akurasi sempurna (100%).\n",
    "\n",
    "- Tidak ada kesalahan klasifikasi (Untrue Positive / Wrong Negative = 0).\n",
    "\n",
    "- Accuracy, Review, dan F1-Score juga kemungkinan besar 1.0 (sempurna).\n",
    "\n",
    " 2. Penyebab Kemungkinan\n",
    "\n",
    "- Dataset memiliki pola yang sangat jelas, sehingga show dapat mengenali kelas dengan sempurna.\n",
    "\n",
    "- Fitur sangat informatif, memungkinkan demonstrate melakukan klasifikasi tanpa kesalahan.\n",
    "\n",
    "- Tidak ada commotion atau exception signifikan dalam information.\n",
    "\n",
    " "
   ]
  },
  {
   "cell_type": "markdown",
   "metadata": {
    "id": "H4_9OwrsXZlz"
   },
   "source": [
    "Tulis hasil evaluasi algoritma yang digunakan, jika Anda menggunakan 2 algoritma, maka bandingkan hasilnya."
   ]
  },
  {
   "cell_type": "markdown",
   "metadata": {
    "id": "ph9yIYDXEPuB"
   },
   "source": [
    "## **c. Tuning Model Klasifikasi (Optional)**"
   ]
  },
  {
   "cell_type": "markdown",
   "metadata": {
    "id": "-Bikx3LINv5e"
   },
   "source": [
    "Gunakan GridSearchCV, RandomizedSearchCV, atau metode lainnya untuk mencari kombinasi hyperparameter terbaik"
   ]
  },
  {
   "cell_type": "markdown",
   "metadata": {},
   "source": [
    "tuning tidak dipakai karena skornya sudah 1"
   ]
  },
  {
   "cell_type": "markdown",
   "metadata": {
    "id": "hE7pqlEPEYzI"
   },
   "source": [
    "## **d. Evaluasi Model Klasifikasi setelah Tuning (Optional)**"
   ]
  },
  {
   "cell_type": "markdown",
   "metadata": {
    "id": "feaPESoeN0zz"
   },
   "source": [
    "Berikut adalah rekomendasi tahapannya.\n",
    "1. Gunakan model dengan hyperparameter terbaik.\n",
    "2. Hitung ulang metrik evaluasi untuk melihat apakah ada peningkatan performa."
   ]
  },
  {
   "cell_type": "code",
   "execution_count": null,
   "metadata": {
    "id": "HTXZRvEeNMb1"
   },
   "outputs": [],
   "source": [
    "#Type your code here"
   ]
  },
  {
   "cell_type": "markdown",
   "metadata": {
    "id": "ZRsOdm4uEgAW"
   },
   "source": [
    "## **e. Analisis Hasil Evaluasi Model Klasifikasi**"
   ]
  },
  {
   "cell_type": "markdown",
   "metadata": {
    "id": "Hm3BhSi6N4_l"
   },
   "source": [
    "Berikut adalah **rekomendasi** tahapannya.\n",
    "1. Bandingkan hasil evaluasi sebelum dan setelah tuning (jika dilakukan).\n",
    "2. Identifikasi kelemahan model, seperti:\n",
    "  - Precision atau Recall rendah untuk kelas tertentu.\n",
    "  - Apakah model mengalami overfitting atau underfitting?\n",
    "3. Berikan rekomendasi tindakan lanjutan, seperti mengumpulkan data tambahan atau mencoba algoritma lain jika hasil belum memuaskan."
   ]
  },
  {
   "cell_type": "markdown",
   "metadata": {},
   "source": [
    " \n",
    "\n",
    "\n",
    "#### **1. Hasil Evaluasi Model**  \n",
    "\n",
    " **K-Nearest Neighbors (KNN)**  \n",
    "- **Accuracy:** 100%  \n",
    "- **Precision:** 100%  \n",
    "- **Recall:** 100%  \n",
    "- **F1-Score:** 100%  \n",
    "- **Analisis:** KNN mampu mengklasifikasikan semua data dengan sempurna tanpa kesalahan.  \n",
    "\n",
    " **Decision Tree (DT)**  \n",
    "- **Accuracy:** 100%  \n",
    "- **Precision:** 100%  \n",
    "- **Recall:** 100%  \n",
    "- **F1-Score:** 100%  \n",
    "- **Analisis:** Model ini juga memberikan hasil sempurna, yang menunjukkan bahwa dataset memiliki pola yang sangat jelas.  \n",
    "\n",
    " **Gaussian Naïve Bayes (NB)**  \n",
    "- **Accuracy:** 100%  \n",
    "- **Precision:** 100%  \n",
    "- **Recall:** 100%  \n",
    "- **F1-Score:** 100%  \n",
    "- **Analisis:** GaussianNB menunjukkan hasil yang sama, meskipun model ini biasanya lebih rentan terhadap asumsi distribusi data.  \n",
    "\n",
    " **Support Vector Machine (SVM)**  \n",
    "- **Accuracy:** 100%  \n",
    "- **Precision:** 100%  \n",
    "- **Recall:** 100%  \n",
    "- **F1-Score:** 100%  \n",
    "- **Analisis:** SVM juga mengklasifikasikan data tanpa kesalahan, menunjukkan bahwa dataset sangat bersih dan memiliki fitur yang sangat informatif.  \n",
    "\n",
    "**Kesimpulan:**  \n",
    "Semua model memberikan hasil **100% akurasi**, yang sangat jarang terjadi dalam kasus nyata. Hal ini mengindikasikan bahwa dataset mungkin **sangat mudah dipisahkan** atau model mengalami **overfitting terhadap data latih**.  \n",
    "\n",
    "\n",
    "\n",
    "### **2. Analisis Kelemahan Model**  \n",
    "\n",
    " **Potensi Overfitting**  \n",
    "- Hasil akurasi yang sempurna bisa menjadi tanda bahwa model terlalu cocok dengan data latih dan mungkin tidak bekerja dengan baik pada data baru.  \n",
    "\n",
    " **Evaluasi di Data Nyata**  \n",
    "- Model harus diuji dengan data di luar dataset ini untuk memastikan performanya tetap tinggi.  \n",
    "\n",
    " **Bias Dataset**  \n",
    "- Jika dataset terlalu bersih atau fitur-fitur sangat informatif, maka model mungkin tidak menghadapi tantangan nyata dalam klasifikasi.  \n",
    "\n",
    "\n",
    "\n",
    "### **3. Rekomendasi Tindakan Lanjutan**  \n",
    "\n",
    " **Uji Model dengan Data Baru**  \n",
    "- Lakukan pengujian dengan dataset lain atau data real-world untuk melihat apakah hasil tetap akurat.  \n",
    "\n",
    " **Lakukan Cross-Validation**  \n",
    "- Gunakan k-fold cross-validation untuk melihat apakah hasil ini konsisten di berbagai subset data.  \n",
    "\n",
    "**Eksperimen dengan Noise atau Data Tambahan**  \n",
    "- Tambahkan sedikit noise atau gunakan dataset yang lebih kompleks untuk menguji ketahanan model.  \n",
    "\n",
    " **Tuning Model Lebih Lanjut (Jika Diperlukan)**  \n",
    "- Jika hasil masih terlalu sempurna, bisa mencoba mengurangi kompleksitas model untuk menghindari overfitting.  \n",
    "\n",
    " **Kesimpulan Akhir:**  \n",
    "Model bekerja dengan sempurna untuk dataset ini, tetapi perlu pengujian lebih lanjut untuk memastikan generalisasi ke data baru."
   ]
  },
  {
   "cell_type": "code",
   "execution_count": null,
   "metadata": {},
   "outputs": [],
   "source": []
  }
 ],
 "metadata": {
  "colab": {
   "provenance": []
  },
  "kernelspec": {
   "display_name": "Python 3 (ipykernel)",
   "language": "python",
   "name": "python3"
  },
  "language_info": {
   "codemirror_mode": {
    "name": "ipython",
    "version": 3
   },
   "file_extension": ".py",
   "mimetype": "text/x-python",
   "name": "python",
   "nbconvert_exporter": "python",
   "pygments_lexer": "ipython3",
   "version": "3.13.1"
  }
 },
 "nbformat": 4,
 "nbformat_minor": 4
}
